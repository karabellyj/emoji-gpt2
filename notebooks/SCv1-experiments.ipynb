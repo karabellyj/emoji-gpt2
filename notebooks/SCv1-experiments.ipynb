{
 "cells": [
  {
   "cell_type": "code",
   "execution_count": 1,
   "metadata": {},
   "outputs": [
    {
     "name": "stderr",
     "output_type": "stream",
     "text": [
      "\n",
      "Bad key \"text.kerning_factor\" on line 4 in\n",
      "/home/jkarabl/anaconda3/envs/emoji-gpt2/lib/python3.7/site-packages/matplotlib/mpl-data/stylelib/_classic_test_patch.mplstyle.\n",
      "You probably need to get an updated matplotlibrc file from\n",
      "https://github.com/matplotlib/matplotlib/blob/v3.1.3/matplotlibrc.template\n",
      "or from the matplotlib source distribution\n",
      "Token indices sequence length is longer than the specified maximum sequence length for this model (2811 > 1024). Running this sequence through the model will result in indexing errors\n"
     ]
    }
   ],
   "source": [
    "import torch\n",
    "import emoji\n",
    "import os\n",
    "import sys\n",
    "import pandas as pd\n",
    "import numpy as np\n",
    "import scipy.stats as ss\n",
    "import pickle\n",
    "import seaborn as sns\n",
    "import matplotlib.pyplot as plt\n",
    "sys.path.insert(0, '../')\n",
    "\n",
    "from tqdm import tqdm\n",
    "from config import GPT2EmojiConfig\n",
    "from model import GPT2LMEmojiModel\n",
    "from transformers import GPT2Tokenizer\n",
    "from run_language_modeling import load_and_cache_examples, targets_mask\n",
    "from sst_binary import sst_binary\n",
    "from utils import *\n",
    "from sklearn.linear_model import LogisticRegression\n",
    "from sklearn.model_selection import train_test_split\n",
    "\n",
    "\n",
    "MODEL_CLASSES = {\n",
    "    \"gpt2\": (GPT2EmojiConfig, GPT2LMEmojiModel, GPT2Tokenizer),\n",
    "}\n",
    "\n",
    "MODEL_PATH = '../checkpoint-180000'\n",
    "\n",
    "args = torch.load(os.path.join(MODEL_PATH, 'training_args.bin'))\n",
    "\n",
    "config_class, model_class, tokenizer_class = MODEL_CLASSES['gpt2']\n",
    "\n",
    "config = config_class.from_pretrained(MODEL_PATH)\n",
    "\n",
    "tokenizer = tokenizer_class.from_pretrained(MODEL_PATH)\n",
    "\n",
    "model = model_class.from_pretrained(\n",
    "            MODEL_PATH,\n",
    "            config=config,\n",
    ")\n",
    "\n",
    "map_target_to_token_id = dict(\n",
    "        zip(range(0, len(emoji.UNICODE_EMOJI.keys())), tokenizer.encode(list(emoji.UNICODE_EMOJI.keys())))\n",
    ")"
   ]
  },
  {
   "cell_type": "code",
   "execution_count": 2,
   "metadata": {},
   "outputs": [],
   "source": [
    "DATASETS = [\n",
    "    'Olympic',\n",
    "    'PsychExp',\n",
    "    'SCv1',\n",
    "    'SCv2-GEN',\n",
    "    'SE0714',\n",
    "    'SS-Twitter',\n",
    "    'SS-Youtube',\n",
    "]\n",
    "DIR = '../data'\n",
    "FILENAME_RAW = 'raw.pickle'\n",
    "CLASSES = 'not sarcastic, sarcastic'.split(', ')\n",
    "TRAIN_SIZE = 1000"
   ]
  },
  {
   "cell_type": "code",
   "execution_count": 3,
   "metadata": {},
   "outputs": [],
   "source": [
    "def load_dataset(dataset):\n",
    "    print(dataset)\n",
    "    DATASET_PATH = f'{DIR}/{dataset}/{FILENAME_RAW}'\n",
    "    with open(DATASET_PATH, 'rb') as file:\n",
    "        data = pickle.load(file, fix_imports=True, encoding='bytes')\n",
    "    \n",
    "    # Decode data\n",
    "    texts = [str(x) for x in data[b'texts']]\n",
    "    # Extract labels\n",
    "    labels = [x[b'label'] for x in data[b'info']]\n",
    "    return texts, labels\n",
    "\n",
    "def decode(y_in):\n",
    "    y_out = []\n",
    "    for y in y_in:\n",
    "        y_out.append(np.argmax(y))\n",
    "    return y_out"
   ]
  },
  {
   "cell_type": "code",
   "execution_count": 4,
   "metadata": {},
   "outputs": [
    {
     "name": "stdout",
     "output_type": "stream",
     "text": [
      "SCv1\n"
     ]
    }
   ],
   "source": [
    "X, y = load_dataset(DATASETS[2])"
   ]
  },
  {
   "cell_type": "code",
   "execution_count": 5,
   "metadata": {},
   "outputs": [
    {
     "data": {
      "image/png": "[encoded data removed]",
      "text/plain": [
       "<Figure size 432x288 with 1 Axes>"
      ]
     },
     "metadata": {},
     "output_type": "display_data"
    }
   ],
   "source": [
    "df = pd.DataFrame({'X': X, 'y': y})\n",
    "ax = df.y.value_counts().plot.pie(labels=CLASSES, autopct='%1.0f%%')\n",
    "ax.set_ylabel(None)\n",
    "plt.savefig('SCv1-classes.pdf', dpi=300)"
   ]
  },
  {
   "cell_type": "code",
   "execution_count": 6,
   "metadata": {},
   "outputs": [],
   "source": [
    "pd.set_option('display.max_colwidth', 1000)"
   ]
  },
  {
   "cell_type": "code",
   "execution_count": 7,
   "metadata": {},
   "outputs": [
    {
     "data": {
      "text/html": [
       "<div>\n",
       "<style scoped>\n",
       "    .dataframe tbody tr th:only-of-type {\n",
       "        vertical-align: middle;\n",
       "    }\n",
       "\n",
       "    .dataframe tbody tr th {\n",
       "        vertical-align: top;\n",
       "    }\n",
       "\n",
       "    .dataframe thead th {\n",
       "        text-align: right;\n",
       "    }\n",
       "</style>\n",
       "<table border=\"1\" class=\"dataframe\">\n",
       "  <thead>\n",
       "    <tr style=\"text-align: right;\">\n",
       "      <th></th>\n",
       "      <th>X</th>\n",
       "      <th>y</th>\n",
       "    </tr>\n",
       "  </thead>\n",
       "  <tbody>\n",
       "    <tr>\n",
       "      <th>998</th>\n",
       "      <td>b'Is it correct to assume that in the presence of the precursors of the standard genetic code (e.g. intermediates of glucose degradation and the citric acid cycle), the intimate relationship between these molecules resulted in the inevitable organization of the genetic code (global optimum of the system)?   Articles 5-7   These articles discuss fascinating mathematical representation of the genetic code. For example, in article 6 a representation of the genetic code as a six\\xe2\\x80\\x93dimensional Boolean hypercube is proposed.   Abstract:'</td>\n",
       "      <td>0</td>\n",
       "    </tr>\n",
       "    <tr>\n",
       "      <th>999</th>\n",
       "      <td>b\"President Obama has correctly characterized the Bill of Rights is a list of negative Rights against government.   The point is, that the only rights that the government, and or any anti-gunner, or department has, is the infringements we grant them through laws etc.   Taking the info in this article at face value. What was a legal practice to do just yesterday landed this guy in a jackpot for not knowing what or how the Govt. is going to interpret the law to mean today. This is a common problem with, and not to directly pick on the ATF, but gun dealers complain about this all the time. EVEN an FBI agent himself cannot predict, nor curry a favorable interpretation.   What kind of country and legal system do we want? Surely you can see that this kind of stuff is not in ANY WAY Shape of Form, fair to do to a Right that our Constitution says is Inalienable. Or to a person who was an impeccable reputation.   Would you like to be treated in this manner?   The article says, what he did i...</td>\n",
       "      <td>0</td>\n",
       "    </tr>\n",
       "    <tr>\n",
       "      <th>1000</th>\n",
       "      <td>b'When talking to a person professing Christianity, the Bible is binding. If the Bible advises that abortion is murder, then it is so regardless of what the secular systems of the day have to say about it.   When talking with one accepting the principles of Christianity, the premiere of those being that the Bible is binding, the existence of the soul is not up for debate.   The position of Bassman, I believe, would be that there is no legitimate right to terminate a pregnancy, especially from the stand-point of the Bible, which of course, is binding to those professing Christianity.'</td>\n",
       "      <td>0</td>\n",
       "    </tr>\n",
       "    <tr>\n",
       "      <th>1001</th>\n",
       "      <td>b'Good idea!'</td>\n",
       "      <td>0</td>\n",
       "    </tr>\n",
       "    <tr>\n",
       "      <th>1002</th>\n",
       "      <td>b'No, they do not. I know several people in England who posess weapons the bought on the street. How are the gun laws in england working when you can buy a machine gun?   Before the ban, england had lower numbers when it came to firearms related deaths. They also had lower crime numbers. The sociological differences between England and the United States are not be be discounted.   It is interesting to note that crime rates in England seem to be rising now that the gun ban has been around for a while. There is even a movement by public officials to arm police officers in response to the rising rate of violent crime. There isa n article and debate about it right here on the forums.   The biggest difference lately in the statistics in England in the US is not the numbers, it is how they are recorded. If a guy is confronted by three people outside a bar and shot to death, but the gus get off during trial, it is still recorded in America s a three person homocide. In england, it is NOT ...</td>\n",
       "      <td>0</td>\n",
       "    </tr>\n",
       "    <tr>\n",
       "      <th>...</th>\n",
       "      <td>...</td>\n",
       "      <td>...</td>\n",
       "    </tr>\n",
       "    <tr>\n",
       "      <th>1990</th>\n",
       "      <td>b'Please define \"climb upward\" and \"downhill slide\" in biologically meaningful terms. Please define \"degeneration.\"'</td>\n",
       "      <td>0</td>\n",
       "    </tr>\n",
       "    <tr>\n",
       "      <th>1991</th>\n",
       "      <td>b'Actually, I think Kronos is right in this case--at least from the standpoint of most consitutional scholars. Of course the framers didn\\'t envision the wording to be used in this way for this purpose--this is what\\'s simply called a \"loophole\", in this case anyway. It\\'s why there has been an effort in recent years to close the loophole with a constitutional amendment defining marriage.'</td>\n",
       "      <td>0</td>\n",
       "    </tr>\n",
       "    <tr>\n",
       "      <th>1992</th>\n",
       "      <td>b'But we have an enumerated Constitutional RKBA. Apples to oranges.'</td>\n",
       "      <td>0</td>\n",
       "    </tr>\n",
       "    <tr>\n",
       "      <th>1993</th>\n",
       "      <td>b\"And what does it matter if they're in the army reserve, or a lawyer, a teacher, a doctor?\"</td>\n",
       "      <td>0</td>\n",
       "    </tr>\n",
       "    <tr>\n",
       "      <th>1994</th>\n",
       "      <td>b\"To say nothing of the possible threats to people's safety, if not actual acts of violence.\"</td>\n",
       "      <td>0</td>\n",
       "    </tr>\n",
       "  </tbody>\n",
       "</table>\n",
       "<p>997 rows × 2 columns</p>\n",
       "</div>"
      ],
      "text/plain": [
       "                                                                                                                                                                                                                                                                                                                                                                                                                                                                                                                                                                                                                                                                                                                                                                                                                                                                                                                                                                                                                                            X  \\\n",
       "998                                                                                                                                                                                                                                                                                                                                                                                                                                                                        b'Is it correct to assume that in the presence of the precursors of the standard genetic code (e.g. intermediates of glucose degradation and the citric acid cycle), the intimate relationship between these molecules resulted in the inevitable organization of the genetic code (global optimum of the system)?   Articles 5-7   These articles discuss fascinating mathematical representation of the genetic code. For example, in article 6 a representation of the genetic code as a six\\xe2\\x80\\x93dimensional Boolean hypercube is proposed.   Abstract:'   \n",
       "999   b\"President Obama has correctly characterized the Bill of Rights is a list of negative Rights against government.   The point is, that the only rights that the government, and or any anti-gunner, or department has, is the infringements we grant them through laws etc.   Taking the info in this article at face value. What was a legal practice to do just yesterday landed this guy in a jackpot for not knowing what or how the Govt. is going to interpret the law to mean today. This is a common problem with, and not to directly pick on the ATF, but gun dealers complain about this all the time. EVEN an FBI agent himself cannot predict, nor curry a favorable interpretation.   What kind of country and legal system do we want? Surely you can see that this kind of stuff is not in ANY WAY Shape of Form, fair to do to a Right that our Constitution says is Inalienable. Or to a person who was an impeccable reputation.   Would you like to be treated in this manner?   The article says, what he did i...   \n",
       "1000                                                                                                                                                                                                                                                                                                                                                                                                                           b'When talking to a person professing Christianity, the Bible is binding. If the Bible advises that abortion is murder, then it is so regardless of what the secular systems of the day have to say about it.   When talking with one accepting the principles of Christianity, the premiere of those being that the Bible is binding, the existence of the soul is not up for debate.   The position of Bassman, I believe, would be that there is no legitimate right to terminate a pregnancy, especially from the stand-point of the Bible, which of course, is binding to those professing Christianity.'   \n",
       "1001                                                                                                                                                                                                                                                                                                                                                                                                                                                                                                                                                                                                                                                                                                                                                                                                                                                                                                                                                                                                                            b'Good idea!'   \n",
       "1002  b'No, they do not. I know several people in England who posess weapons the bought on the street. How are the gun laws in england working when you can buy a machine gun?   Before the ban, england had lower numbers when it came to firearms related deaths. They also had lower crime numbers. The sociological differences between England and the United States are not be be discounted.   It is interesting to note that crime rates in England seem to be rising now that the gun ban has been around for a while. There is even a movement by public officials to arm police officers in response to the rising rate of violent crime. There isa n article and debate about it right here on the forums.   The biggest difference lately in the statistics in England in the US is not the numbers, it is how they are recorded. If a guy is confronted by three people outside a bar and shot to death, but the gus get off during trial, it is still recorded in America s a three person homocide. In england, it is NOT ...   \n",
       "...                                                                                                                                                                                                                                                                                                                                                                                                                                                                                                                                                                                                                                                                                                                                                                                                                                                                                                                                                                                                                                       ...   \n",
       "1990                                                                                                                                                                                                                                                                                                                                                                                                                                                                                                                                                                                                                                                                                                                                                                                                                                                                                                                     b'Please define \"climb upward\" and \"downhill slide\" in biologically meaningful terms. Please define \"degeneration.\"'   \n",
       "1991                                                                                                                                                                                                                                                                                                                                                                                                                                                                                                                                                                                                                                 b'Actually, I think Kronos is right in this case--at least from the standpoint of most consitutional scholars. Of course the framers didn\\'t envision the wording to be used in this way for this purpose--this is what\\'s simply called a \"loophole\", in this case anyway. It\\'s why there has been an effort in recent years to close the loophole with a constitutional amendment defining marriage.'   \n",
       "1992                                                                                                                                                                                                                                                                                                                                                                                                                                                                                                                                                                                                                                                                                                                                                                                                                                                                                                                                                                     b'But we have an enumerated Constitutional RKBA. Apples to oranges.'   \n",
       "1993                                                                                                                                                                                                                                                                                                                                                                                                                                                                                                                                                                                                                                                                                                                                                                                                                                                                                                                                             b\"And what does it matter if they're in the army reserve, or a lawyer, a teacher, a doctor?\"   \n",
       "1994                                                                                                                                                                                                                                                                                                                                                                                                                                                                                                                                                                                                                                                                                                                                                                                                                                                                                                                                            b\"To say nothing of the possible threats to people's safety, if not actual acts of violence.\"   \n",
       "\n",
       "      y  \n",
       "998   0  \n",
       "999   0  \n",
       "1000  0  \n",
       "1001  0  \n",
       "1002  0  \n",
       "...  ..  \n",
       "1990  0  \n",
       "1991  0  \n",
       "1992  0  \n",
       "1993  0  \n",
       "1994  0  \n",
       "\n",
       "[997 rows x 2 columns]"
      ]
     },
     "execution_count": 7,
     "metadata": {},
     "output_type": "execute_result"
    }
   ],
   "source": [
    "df.loc[df.y == 0]"
   ]
  },
  {
   "cell_type": "code",
   "execution_count": 8,
   "metadata": {},
   "outputs": [
    {
     "data": {
      "text/html": [
       "<div>\n",
       "<style scoped>\n",
       "    .dataframe tbody tr th:only-of-type {\n",
       "        vertical-align: middle;\n",
       "    }\n",
       "\n",
       "    .dataframe tbody tr th {\n",
       "        vertical-align: top;\n",
       "    }\n",
       "\n",
       "    .dataframe thead th {\n",
       "        text-align: right;\n",
       "    }\n",
       "</style>\n",
       "<table border=\"1\" class=\"dataframe\">\n",
       "  <thead>\n",
       "    <tr style=\"text-align: right;\">\n",
       "      <th></th>\n",
       "      <th>X</th>\n",
       "      <th>y</th>\n",
       "    </tr>\n",
       "  </thead>\n",
       "  <tbody>\n",
       "    <tr>\n",
       "      <th>0</th>\n",
       "      <td>b\"So in order to discuss an article you made up a bunch of stuff that wasn't in the article, implied it was in the article, and failed to discuss anything that was actually in the article. I see.   Will this be a one time thing, or is this the sort of thing we should expect from you on a regular basis? Just wondering.\"</td>\n",
       "      <td>1</td>\n",
       "    </tr>\n",
       "    <tr>\n",
       "      <th>1</th>\n",
       "      <td>b\"Old habits die hard and dogs don't pay attention to clocks!\"</td>\n",
       "      <td>1</td>\n",
       "    </tr>\n",
       "    <tr>\n",
       "      <th>2</th>\n",
       "      <td>b'They only need 1/4 of the legislature, so they\\'ll probably get that. But if it actually gets to the polls? The conservatives took a big hit when they ran around screaming \"If gays get married society will collapse and we\\'ll all be doomed!!!11!1!!\" and then nothing happened. And of course the most organized group in Mass. opposing gay marriage is the Mass. Catholic church, and people aren\\'t going to take kindly to a bunch of child rapers telling them what\\'s right and wrong. The anti-gay side really doesn\\'t have much to work with; it\\'ll largely be a contest of good will and common sense vs. scare tactics, and the scare tactics have already been proven wrong.'</td>\n",
       "      <td>1</td>\n",
       "    </tr>\n",
       "    <tr>\n",
       "      <th>3</th>\n",
       "      <td>b'well if you think the sun goes around the earth then its time for apocalypse.'</td>\n",
       "      <td>1</td>\n",
       "    </tr>\n",
       "    <tr>\n",
       "      <th>4</th>\n",
       "      <td>b'I dunno. What is the scoop here? You complain about the responses we give, and yet you keep coming back for more. Even people with down syndrome learn enough to only stick their hands in the open flame once.'</td>\n",
       "      <td>1</td>\n",
       "    </tr>\n",
       "    <tr>\n",
       "      <th>...</th>\n",
       "      <td>...</td>\n",
       "      <td>...</td>\n",
       "    </tr>\n",
       "    <tr>\n",
       "      <th>993</th>\n",
       "      <td>b'That money will never be paid. \"Doctor\" Hovind (his doctorate is from an unaccredited diploma mill) has phrased his offer in such a way that it is impossible to get it.   Numbers 1-4 have absolutely nothing to do with evolution, but gullable people fall for it. Number 1 is actually impossible to prove.   Hovind probably doesn\\'t even have $250,000. In 1996 he declared bankruptcy, and there\\'s no reason to believe that his financial situation has suddenly improved. He claims that \"a wealthy friend\", whom he refuses to name, has the money. The committee that is supposed to evaluate claims is similarly anonymous, but he has hinted that it\\'s filled exclusively with creationists, who are certainly not unbiased.   Read about Kent Hovind. He really is a worthless piece of scum.'</td>\n",
       "      <td>1</td>\n",
       "    </tr>\n",
       "    <tr>\n",
       "      <th>994</th>\n",
       "      <td>b'That \"somebody\" was a Jesuit priest, the idea met some initial resistance because of it\\'s religious overtones. But the overwhelming evidence in favor of it carried the day. You should study some history too.'</td>\n",
       "      <td>1</td>\n",
       "    </tr>\n",
       "    <tr>\n",
       "      <th>995</th>\n",
       "      <td>b\"Try the link. You've done the 'name calling', at least you could be honest about what you are doing.\"</td>\n",
       "      <td>1</td>\n",
       "    </tr>\n",
       "    <tr>\n",
       "      <th>996</th>\n",
       "      <td>b\"That's great for women!   What about the rights of their children?\"</td>\n",
       "      <td>1</td>\n",
       "    </tr>\n",
       "    <tr>\n",
       "      <th>997</th>\n",
       "      <td>b\"Well, it does take some scientific knowledge to understand the evidence for evolution. One doesn't expect Creationists to possess it.\"</td>\n",
       "      <td>1</td>\n",
       "    </tr>\n",
       "  </tbody>\n",
       "</table>\n",
       "<p>998 rows × 2 columns</p>\n",
       "</div>"
      ],
      "text/plain": [
       "                                                                                                                                                                                                                                                                                                                                                                                                                                                                                                                                                                                                                                                                                                                                                                                                                     X  \\\n",
       "0                                                                                                                                                                                                                                                                                                                                                                                                                                                                                     b\"So in order to discuss an article you made up a bunch of stuff that wasn't in the article, implied it was in the article, and failed to discuss anything that was actually in the article. I see.   Will this be a one time thing, or is this the sort of thing we should expect from you on a regular basis? Just wondering.\"   \n",
       "1                                                                                                                                                                                                                                                                                                                                                                                                                                                                                                                                                                                                                                                                                                                                                       b\"Old habits die hard and dogs don't pay attention to clocks!\"   \n",
       "2                                                                                                                    b'They only need 1/4 of the legislature, so they\\'ll probably get that. But if it actually gets to the polls? The conservatives took a big hit when they ran around screaming \"If gays get married society will collapse and we\\'ll all be doomed!!!11!1!!\" and then nothing happened. And of course the most organized group in Mass. opposing gay marriage is the Mass. Catholic church, and people aren\\'t going to take kindly to a bunch of child rapers telling them what\\'s right and wrong. The anti-gay side really doesn\\'t have much to work with; it\\'ll largely be a contest of good will and common sense vs. scare tactics, and the scare tactics have already been proven wrong.'   \n",
       "3                                                                                                                                                                                                                                                                                                                                                                                                                                                                                                                                                                                                                                                                                                                                     b'well if you think the sun goes around the earth then its time for apocalypse.'   \n",
       "4                                                                                                                                                                                                                                                                                                                                                                                                                                                                                                                                                                                                   b'I dunno. What is the scoop here? You complain about the responses we give, and yet you keep coming back for more. Even people with down syndrome learn enough to only stick their hands in the open flame once.'   \n",
       "..                                                                                                                                                                                                                                                                                                                                                                                                                                                                                                                                                                                                                                                                                                                                                                                                                 ...   \n",
       "993  b'That money will never be paid. \"Doctor\" Hovind (his doctorate is from an unaccredited diploma mill) has phrased his offer in such a way that it is impossible to get it.   Numbers 1-4 have absolutely nothing to do with evolution, but gullable people fall for it. Number 1 is actually impossible to prove.   Hovind probably doesn\\'t even have $250,000. In 1996 he declared bankruptcy, and there\\'s no reason to believe that his financial situation has suddenly improved. He claims that \"a wealthy friend\", whom he refuses to name, has the money. The committee that is supposed to evaluate claims is similarly anonymous, but he has hinted that it\\'s filled exclusively with creationists, who are certainly not unbiased.   Read about Kent Hovind. He really is a worthless piece of scum.'   \n",
       "994                                                                                                                                                                                                                                                                                                                                                                                                                                                                                                                                                                                                b'That \"somebody\" was a Jesuit priest, the idea met some initial resistance because of it\\'s religious overtones. But the overwhelming evidence in favor of it carried the day. You should study some history too.'   \n",
       "995                                                                                                                                                                                                                                                                                                                                                                                                                                                                                                                                                                                                                                                                                                            b\"Try the link. You've done the 'name calling', at least you could be honest about what you are doing.\"   \n",
       "996                                                                                                                                                                                                                                                                                                                                                                                                                                                                                                                                                                                                                                                                                                                                              b\"That's great for women!   What about the rights of their children?\"   \n",
       "997                                                                                                                                                                                                                                                                                                                                                                                                                                                                                                                                                                                                                                                                           b\"Well, it does take some scientific knowledge to understand the evidence for evolution. One doesn't expect Creationists to possess it.\"   \n",
       "\n",
       "     y  \n",
       "0    1  \n",
       "1    1  \n",
       "2    1  \n",
       "3    1  \n",
       "4    1  \n",
       "..  ..  \n",
       "993  1  \n",
       "994  1  \n",
       "995  1  \n",
       "996  1  \n",
       "997  1  \n",
       "\n",
       "[998 rows x 2 columns]"
      ]
     },
     "execution_count": 8,
     "metadata": {},
     "output_type": "execute_result"
    }
   ],
   "source": [
    "df.loc[df.y == 1]"
   ]
  },
  {
   "cell_type": "code",
   "execution_count": 7,
   "metadata": {},
   "outputs": [],
   "source": [
    "Xt = tokenize(X, tokenizer)"
   ]
  },
  {
   "cell_type": "code",
   "execution_count": 8,
   "metadata": {},
   "outputs": [],
   "source": [
    "trXt, teXt, trY, teY = train_test_split(Xt, y, train_size=TRAIN_SIZE, random_state=42)"
   ]
  },
  {
   "cell_type": "code",
   "execution_count": 9,
   "metadata": {},
   "outputs": [
    {
     "name": "stderr",
     "output_type": "stream",
     "text": [
      "100%|██████████| 1000/1000 [09:00<00:00,  1.85it/s]\n"
     ]
    }
   ],
   "source": [
    "mean_preds = predict_mean(trXt, model, tokenizer, map_target_to_token_id)"
   ]
  },
  {
   "cell_type": "code",
   "execution_count": 10,
   "metadata": {},
   "outputs": [
    {
     "name": "stderr",
     "output_type": "stream",
     "text": [
      "100%|██████████| 1000/1000 [05:22<00:00,  3.10it/s]\n"
     ]
    }
   ],
   "source": [
    "last_preds = predict_last(trXt, model, tokenizer, map_target_to_token_id)"
   ]
  },
  {
   "cell_type": "code",
   "execution_count": 11,
   "metadata": {},
   "outputs": [
    {
     "name": "stderr",
     "output_type": "stream",
     "text": [
      "100%|██████████| 1000/1000 [06:36<00:00,  2.52it/s]\n"
     ]
    }
   ],
   "source": [
    "max_preds = predict_max(trXt, model, tokenizer, map_target_to_token_id)"
   ]
  },
  {
   "cell_type": "code",
   "execution_count": 12,
   "metadata": {},
   "outputs": [
    {
     "data": {
      "text/html": [
       "<div>\n",
       "<style scoped>\n",
       "    .dataframe tbody tr th:only-of-type {\n",
       "        vertical-align: middle;\n",
       "    }\n",
       "\n",
       "    .dataframe tbody tr th {\n",
       "        vertical-align: top;\n",
       "    }\n",
       "\n",
       "    .dataframe thead th {\n",
       "        text-align: right;\n",
       "    }\n",
       "</style>\n",
       "<table border=\"1\" class=\"dataframe\">\n",
       "  <thead>\n",
       "    <tr style=\"text-align: right;\">\n",
       "      <th>col_0</th>\n",
       "      <th>0</th>\n",
       "      <th>1</th>\n",
       "    </tr>\n",
       "    <tr>\n",
       "      <th>row_0</th>\n",
       "      <th></th>\n",
       "      <th></th>\n",
       "    </tr>\n",
       "  </thead>\n",
       "  <tbody>\n",
       "    <tr>\n",
       "      <th>✊</th>\n",
       "      <td>1</td>\n",
       "      <td>0</td>\n",
       "    </tr>\n",
       "    <tr>\n",
       "      <th>✨</th>\n",
       "      <td>3</td>\n",
       "      <td>4</td>\n",
       "    </tr>\n",
       "    <tr>\n",
       "      <th>❤</th>\n",
       "      <td>1</td>\n",
       "      <td>1</td>\n",
       "    </tr>\n",
       "    <tr>\n",
       "      <th>🌟</th>\n",
       "      <td>1</td>\n",
       "      <td>0</td>\n",
       "    </tr>\n",
       "    <tr>\n",
       "      <th>🎶</th>\n",
       "      <td>3</td>\n",
       "      <td>2</td>\n",
       "    </tr>\n",
       "    <tr>\n",
       "      <th>👀</th>\n",
       "      <td>3</td>\n",
       "      <td>4</td>\n",
       "    </tr>\n",
       "    <tr>\n",
       "      <th>👇</th>\n",
       "      <td>6</td>\n",
       "      <td>1</td>\n",
       "    </tr>\n",
       "    <tr>\n",
       "      <th>👍</th>\n",
       "      <td>5</td>\n",
       "      <td>0</td>\n",
       "    </tr>\n",
       "    <tr>\n",
       "      <th>👏</th>\n",
       "      <td>0</td>\n",
       "      <td>2</td>\n",
       "    </tr>\n",
       "    <tr>\n",
       "      <th>💯</th>\n",
       "      <td>2</td>\n",
       "      <td>0</td>\n",
       "    </tr>\n",
       "    <tr>\n",
       "      <th>🔥</th>\n",
       "      <td>0</td>\n",
       "      <td>1</td>\n",
       "    </tr>\n",
       "    <tr>\n",
       "      <th>😂</th>\n",
       "      <td>430</td>\n",
       "      <td>432</td>\n",
       "    </tr>\n",
       "    <tr>\n",
       "      <th>😊</th>\n",
       "      <td>2</td>\n",
       "      <td>0</td>\n",
       "    </tr>\n",
       "    <tr>\n",
       "      <th>😌</th>\n",
       "      <td>1</td>\n",
       "      <td>0</td>\n",
       "    </tr>\n",
       "    <tr>\n",
       "      <th>😔</th>\n",
       "      <td>3</td>\n",
       "      <td>3</td>\n",
       "    </tr>\n",
       "    <tr>\n",
       "      <th>😭</th>\n",
       "      <td>30</td>\n",
       "      <td>35</td>\n",
       "    </tr>\n",
       "    <tr>\n",
       "      <th>😳</th>\n",
       "      <td>1</td>\n",
       "      <td>2</td>\n",
       "    </tr>\n",
       "    <tr>\n",
       "      <th>🙂</th>\n",
       "      <td>2</td>\n",
       "      <td>1</td>\n",
       "    </tr>\n",
       "    <tr>\n",
       "      <th>🙃</th>\n",
       "      <td>1</td>\n",
       "      <td>0</td>\n",
       "    </tr>\n",
       "    <tr>\n",
       "      <th>🙄</th>\n",
       "      <td>7</td>\n",
       "      <td>3</td>\n",
       "    </tr>\n",
       "    <tr>\n",
       "      <th>🙏</th>\n",
       "      <td>4</td>\n",
       "      <td>3</td>\n",
       "    </tr>\n",
       "  </tbody>\n",
       "</table>\n",
       "</div>"
      ],
      "text/plain": [
       "col_0    0    1\n",
       "row_0          \n",
       "✊        1    0\n",
       "✨        3    4\n",
       "❤        1    1\n",
       "🌟        1    0\n",
       "🎶        3    2\n",
       "👀        3    4\n",
       "👇        6    1\n",
       "👍        5    0\n",
       "👏        0    2\n",
       "💯        2    0\n",
       "🔥        0    1\n",
       "😂      430  432\n",
       "😊        2    0\n",
       "😌        1    0\n",
       "😔        3    3\n",
       "😭       30   35\n",
       "😳        1    2\n",
       "🙂        2    1\n",
       "🙃        1    0\n",
       "🙄        7    3\n",
       "🙏        4    3"
      ]
     },
     "execution_count": 12,
     "metadata": {},
     "output_type": "execute_result"
    }
   ],
   "source": [
    "mean_cm = pd.crosstab(pd.Series(mean_preds), pd.Series(trY))\n",
    "mean_cm"
   ]
  },
  {
   "cell_type": "code",
   "execution_count": 13,
   "metadata": {},
   "outputs": [
    {
     "data": {
      "text/html": [
       "<div>\n",
       "<style scoped>\n",
       "    .dataframe tbody tr th:only-of-type {\n",
       "        vertical-align: middle;\n",
       "    }\n",
       "\n",
       "    .dataframe tbody tr th {\n",
       "        vertical-align: top;\n",
       "    }\n",
       "\n",
       "    .dataframe thead th {\n",
       "        text-align: right;\n",
       "    }\n",
       "</style>\n",
       "<table border=\"1\" class=\"dataframe\">\n",
       "  <thead>\n",
       "    <tr style=\"text-align: right;\">\n",
       "      <th>col_0</th>\n",
       "      <th>0</th>\n",
       "      <th>1</th>\n",
       "    </tr>\n",
       "    <tr>\n",
       "      <th>row_0</th>\n",
       "      <th></th>\n",
       "      <th></th>\n",
       "    </tr>\n",
       "  </thead>\n",
       "  <tbody>\n",
       "    <tr>\n",
       "      <th>☕</th>\n",
       "      <td>1</td>\n",
       "      <td>0</td>\n",
       "    </tr>\n",
       "    <tr>\n",
       "      <th>♥</th>\n",
       "      <td>1</td>\n",
       "      <td>2</td>\n",
       "    </tr>\n",
       "    <tr>\n",
       "      <th>✨</th>\n",
       "      <td>4</td>\n",
       "      <td>8</td>\n",
       "    </tr>\n",
       "    <tr>\n",
       "      <th>❤</th>\n",
       "      <td>6</td>\n",
       "      <td>5</td>\n",
       "    </tr>\n",
       "    <tr>\n",
       "      <th>➡</th>\n",
       "      <td>1</td>\n",
       "      <td>0</td>\n",
       "    </tr>\n",
       "    <tr>\n",
       "      <th>🇺</th>\n",
       "      <td>2</td>\n",
       "      <td>1</td>\n",
       "    </tr>\n",
       "    <tr>\n",
       "      <th>🌊</th>\n",
       "      <td>1</td>\n",
       "      <td>0</td>\n",
       "    </tr>\n",
       "    <tr>\n",
       "      <th>🍀</th>\n",
       "      <td>1</td>\n",
       "      <td>0</td>\n",
       "    </tr>\n",
       "    <tr>\n",
       "      <th>🎂</th>\n",
       "      <td>1</td>\n",
       "      <td>0</td>\n",
       "    </tr>\n",
       "    <tr>\n",
       "      <th>🎶</th>\n",
       "      <td>35</td>\n",
       "      <td>21</td>\n",
       "    </tr>\n",
       "    <tr>\n",
       "      <th>🐍</th>\n",
       "      <td>1</td>\n",
       "      <td>0</td>\n",
       "    </tr>\n",
       "    <tr>\n",
       "      <th>👀</th>\n",
       "      <td>6</td>\n",
       "      <td>10</td>\n",
       "    </tr>\n",
       "    <tr>\n",
       "      <th>👇</th>\n",
       "      <td>11</td>\n",
       "      <td>2</td>\n",
       "    </tr>\n",
       "    <tr>\n",
       "      <th>👍</th>\n",
       "      <td>4</td>\n",
       "      <td>4</td>\n",
       "    </tr>\n",
       "    <tr>\n",
       "      <th>👏</th>\n",
       "      <td>3</td>\n",
       "      <td>0</td>\n",
       "    </tr>\n",
       "    <tr>\n",
       "      <th>💎</th>\n",
       "      <td>0</td>\n",
       "      <td>1</td>\n",
       "    </tr>\n",
       "    <tr>\n",
       "      <th>💜</th>\n",
       "      <td>1</td>\n",
       "      <td>2</td>\n",
       "    </tr>\n",
       "    <tr>\n",
       "      <th>🔥</th>\n",
       "      <td>1</td>\n",
       "      <td>4</td>\n",
       "    </tr>\n",
       "    <tr>\n",
       "      <th>😁</th>\n",
       "      <td>0</td>\n",
       "      <td>1</td>\n",
       "    </tr>\n",
       "    <tr>\n",
       "      <th>😂</th>\n",
       "      <td>341</td>\n",
       "      <td>368</td>\n",
       "    </tr>\n",
       "    <tr>\n",
       "      <th>😄</th>\n",
       "      <td>1</td>\n",
       "      <td>0</td>\n",
       "    </tr>\n",
       "    <tr>\n",
       "      <th>😊</th>\n",
       "      <td>4</td>\n",
       "      <td>3</td>\n",
       "    </tr>\n",
       "    <tr>\n",
       "      <th>😔</th>\n",
       "      <td>4</td>\n",
       "      <td>1</td>\n",
       "    </tr>\n",
       "    <tr>\n",
       "      <th>😡</th>\n",
       "      <td>1</td>\n",
       "      <td>1</td>\n",
       "    </tr>\n",
       "    <tr>\n",
       "      <th>😭</th>\n",
       "      <td>11</td>\n",
       "      <td>10</td>\n",
       "    </tr>\n",
       "    <tr>\n",
       "      <th>😳</th>\n",
       "      <td>1</td>\n",
       "      <td>3</td>\n",
       "    </tr>\n",
       "    <tr>\n",
       "      <th>🙂</th>\n",
       "      <td>2</td>\n",
       "      <td>2</td>\n",
       "    </tr>\n",
       "    <tr>\n",
       "      <th>🙃</th>\n",
       "      <td>3</td>\n",
       "      <td>2</td>\n",
       "    </tr>\n",
       "    <tr>\n",
       "      <th>🙄</th>\n",
       "      <td>53</td>\n",
       "      <td>40</td>\n",
       "    </tr>\n",
       "    <tr>\n",
       "      <th>🙏</th>\n",
       "      <td>5</td>\n",
       "      <td>3</td>\n",
       "    </tr>\n",
       "  </tbody>\n",
       "</table>\n",
       "</div>"
      ],
      "text/plain": [
       "col_0    0    1\n",
       "row_0          \n",
       "☕        1    0\n",
       "♥        1    2\n",
       "✨        4    8\n",
       "❤        6    5\n",
       "➡        1    0\n",
       "🇺        2    1\n",
       "🌊        1    0\n",
       "🍀        1    0\n",
       "🎂        1    0\n",
       "🎶       35   21\n",
       "🐍        1    0\n",
       "👀        6   10\n",
       "👇       11    2\n",
       "👍        4    4\n",
       "👏        3    0\n",
       "💎        0    1\n",
       "💜        1    2\n",
       "🔥        1    4\n",
       "😁        0    1\n",
       "😂      341  368\n",
       "😄        1    0\n",
       "😊        4    3\n",
       "😔        4    1\n",
       "😡        1    1\n",
       "😭       11   10\n",
       "😳        1    3\n",
       "🙂        2    2\n",
       "🙃        3    2\n",
       "🙄       53   40\n",
       "🙏        5    3"
      ]
     },
     "execution_count": 13,
     "metadata": {},
     "output_type": "execute_result"
    }
   ],
   "source": [
    "last_cm = pd.crosstab(pd.Series(last_preds), pd.Series(trY))\n",
    "last_cm"
   ]
  },
  {
   "cell_type": "code",
   "execution_count": 14,
   "metadata": {},
   "outputs": [
    {
     "data": {
      "text/html": [
       "<div>\n",
       "<style scoped>\n",
       "    .dataframe tbody tr th:only-of-type {\n",
       "        vertical-align: middle;\n",
       "    }\n",
       "\n",
       "    .dataframe tbody tr th {\n",
       "        vertical-align: top;\n",
       "    }\n",
       "\n",
       "    .dataframe thead th {\n",
       "        text-align: right;\n",
       "    }\n",
       "</style>\n",
       "<table border=\"1\" class=\"dataframe\">\n",
       "  <thead>\n",
       "    <tr style=\"text-align: right;\">\n",
       "      <th>col_0</th>\n",
       "      <th>0</th>\n",
       "      <th>1</th>\n",
       "    </tr>\n",
       "    <tr>\n",
       "      <th>row_0</th>\n",
       "      <th></th>\n",
       "      <th></th>\n",
       "    </tr>\n",
       "  </thead>\n",
       "  <tbody>\n",
       "    <tr>\n",
       "      <th>☕</th>\n",
       "      <td>1</td>\n",
       "      <td>0</td>\n",
       "    </tr>\n",
       "    <tr>\n",
       "      <th>♥</th>\n",
       "      <td>0</td>\n",
       "      <td>1</td>\n",
       "    </tr>\n",
       "    <tr>\n",
       "      <th>✅</th>\n",
       "      <td>1</td>\n",
       "      <td>1</td>\n",
       "    </tr>\n",
       "    <tr>\n",
       "      <th>✊</th>\n",
       "      <td>1</td>\n",
       "      <td>0</td>\n",
       "    </tr>\n",
       "    <tr>\n",
       "      <th>✨</th>\n",
       "      <td>1</td>\n",
       "      <td>0</td>\n",
       "    </tr>\n",
       "    <tr>\n",
       "      <th>🇺</th>\n",
       "      <td>7</td>\n",
       "      <td>0</td>\n",
       "    </tr>\n",
       "    <tr>\n",
       "      <th>🌊</th>\n",
       "      <td>2</td>\n",
       "      <td>3</td>\n",
       "    </tr>\n",
       "    <tr>\n",
       "      <th>🌍</th>\n",
       "      <td>0</td>\n",
       "      <td>1</td>\n",
       "    </tr>\n",
       "    <tr>\n",
       "      <th>🌙</th>\n",
       "      <td>0</td>\n",
       "      <td>1</td>\n",
       "    </tr>\n",
       "    <tr>\n",
       "      <th>🌞</th>\n",
       "      <td>0</td>\n",
       "      <td>1</td>\n",
       "    </tr>\n",
       "    <tr>\n",
       "      <th>🌟</th>\n",
       "      <td>1</td>\n",
       "      <td>0</td>\n",
       "    </tr>\n",
       "    <tr>\n",
       "      <th>🌱</th>\n",
       "      <td>1</td>\n",
       "      <td>2</td>\n",
       "    </tr>\n",
       "    <tr>\n",
       "      <th>🍀</th>\n",
       "      <td>1</td>\n",
       "      <td>0</td>\n",
       "    </tr>\n",
       "    <tr>\n",
       "      <th>🍆</th>\n",
       "      <td>5</td>\n",
       "      <td>1</td>\n",
       "    </tr>\n",
       "    <tr>\n",
       "      <th>🍊</th>\n",
       "      <td>8</td>\n",
       "      <td>2</td>\n",
       "    </tr>\n",
       "    <tr>\n",
       "      <th>🍒</th>\n",
       "      <td>0</td>\n",
       "      <td>1</td>\n",
       "    </tr>\n",
       "    <tr>\n",
       "      <th>🍕</th>\n",
       "      <td>1</td>\n",
       "      <td>0</td>\n",
       "    </tr>\n",
       "    <tr>\n",
       "      <th>🍺</th>\n",
       "      <td>1</td>\n",
       "      <td>0</td>\n",
       "    </tr>\n",
       "    <tr>\n",
       "      <th>🎂</th>\n",
       "      <td>1</td>\n",
       "      <td>0</td>\n",
       "    </tr>\n",
       "    <tr>\n",
       "      <th>🎶</th>\n",
       "      <td>5</td>\n",
       "      <td>2</td>\n",
       "    </tr>\n",
       "    <tr>\n",
       "      <th>🐍</th>\n",
       "      <td>4</td>\n",
       "      <td>8</td>\n",
       "    </tr>\n",
       "    <tr>\n",
       "      <th>🐐</th>\n",
       "      <td>168</td>\n",
       "      <td>159</td>\n",
       "    </tr>\n",
       "    <tr>\n",
       "      <th>🐠</th>\n",
       "      <td>0</td>\n",
       "      <td>1</td>\n",
       "    </tr>\n",
       "    <tr>\n",
       "      <th>👀</th>\n",
       "      <td>4</td>\n",
       "      <td>10</td>\n",
       "    </tr>\n",
       "    <tr>\n",
       "      <th>👁</th>\n",
       "      <td>0</td>\n",
       "      <td>1</td>\n",
       "    </tr>\n",
       "    <tr>\n",
       "      <th>👇</th>\n",
       "      <td>35</td>\n",
       "      <td>25</td>\n",
       "    </tr>\n",
       "    <tr>\n",
       "      <th>👉</th>\n",
       "      <td>0</td>\n",
       "      <td>1</td>\n",
       "    </tr>\n",
       "    <tr>\n",
       "      <th>👌</th>\n",
       "      <td>4</td>\n",
       "      <td>6</td>\n",
       "    </tr>\n",
       "    <tr>\n",
       "      <th>👍</th>\n",
       "      <td>8</td>\n",
       "      <td>6</td>\n",
       "    </tr>\n",
       "    <tr>\n",
       "      <th>👏</th>\n",
       "      <td>3</td>\n",
       "      <td>3</td>\n",
       "    </tr>\n",
       "    <tr>\n",
       "      <th>👑</th>\n",
       "      <td>1</td>\n",
       "      <td>0</td>\n",
       "    </tr>\n",
       "    <tr>\n",
       "      <th>💩</th>\n",
       "      <td>65</td>\n",
       "      <td>72</td>\n",
       "    </tr>\n",
       "    <tr>\n",
       "      <th>💭</th>\n",
       "      <td>1</td>\n",
       "      <td>4</td>\n",
       "    </tr>\n",
       "    <tr>\n",
       "      <th>💯</th>\n",
       "      <td>4</td>\n",
       "      <td>5</td>\n",
       "    </tr>\n",
       "    <tr>\n",
       "      <th>💰</th>\n",
       "      <td>2</td>\n",
       "      <td>0</td>\n",
       "    </tr>\n",
       "    <tr>\n",
       "      <th>🔑</th>\n",
       "      <td>0</td>\n",
       "      <td>1</td>\n",
       "    </tr>\n",
       "    <tr>\n",
       "      <th>🔥</th>\n",
       "      <td>31</td>\n",
       "      <td>30</td>\n",
       "    </tr>\n",
       "    <tr>\n",
       "      <th>😂</th>\n",
       "      <td>106</td>\n",
       "      <td>119</td>\n",
       "    </tr>\n",
       "    <tr>\n",
       "      <th>😊</th>\n",
       "      <td>1</td>\n",
       "      <td>0</td>\n",
       "    </tr>\n",
       "    <tr>\n",
       "      <th>😌</th>\n",
       "      <td>2</td>\n",
       "      <td>0</td>\n",
       "    </tr>\n",
       "    <tr>\n",
       "      <th>😔</th>\n",
       "      <td>1</td>\n",
       "      <td>0</td>\n",
       "    </tr>\n",
       "    <tr>\n",
       "      <th>😡</th>\n",
       "      <td>1</td>\n",
       "      <td>0</td>\n",
       "    </tr>\n",
       "    <tr>\n",
       "      <th>😭</th>\n",
       "      <td>16</td>\n",
       "      <td>18</td>\n",
       "    </tr>\n",
       "    <tr>\n",
       "      <th>😳</th>\n",
       "      <td>9</td>\n",
       "      <td>7</td>\n",
       "    </tr>\n",
       "    <tr>\n",
       "      <th>🙄</th>\n",
       "      <td>1</td>\n",
       "      <td>0</td>\n",
       "    </tr>\n",
       "    <tr>\n",
       "      <th>🙏</th>\n",
       "      <td>2</td>\n",
       "      <td>2</td>\n",
       "    </tr>\n",
       "  </tbody>\n",
       "</table>\n",
       "</div>"
      ],
      "text/plain": [
       "col_0    0    1\n",
       "row_0          \n",
       "☕        1    0\n",
       "♥        0    1\n",
       "✅        1    1\n",
       "✊        1    0\n",
       "✨        1    0\n",
       "🇺        7    0\n",
       "🌊        2    3\n",
       "🌍        0    1\n",
       "🌙        0    1\n",
       "🌞        0    1\n",
       "🌟        1    0\n",
       "🌱        1    2\n",
       "🍀        1    0\n",
       "🍆        5    1\n",
       "🍊        8    2\n",
       "🍒        0    1\n",
       "🍕        1    0\n",
       "🍺        1    0\n",
       "🎂        1    0\n",
       "🎶        5    2\n",
       "🐍        4    8\n",
       "🐐      168  159\n",
       "🐠        0    1\n",
       "👀        4   10\n",
       "👁        0    1\n",
       "👇       35   25\n",
       "👉        0    1\n",
       "👌        4    6\n",
       "👍        8    6\n",
       "👏        3    3\n",
       "👑        1    0\n",
       "💩       65   72\n",
       "💭        1    4\n",
       "💯        4    5\n",
       "💰        2    0\n",
       "🔑        0    1\n",
       "🔥       31   30\n",
       "😂      106  119\n",
       "😊        1    0\n",
       "😌        2    0\n",
       "😔        1    0\n",
       "😡        1    0\n",
       "😭       16   18\n",
       "😳        9    7\n",
       "🙄        1    0\n",
       "🙏        2    2"
      ]
     },
     "execution_count": 14,
     "metadata": {},
     "output_type": "execute_result"
    }
   ],
   "source": [
    "max_cm = pd.crosstab(pd.Series(max_preds), pd.Series(trY))\n",
    "max_cm"
   ]
  },
  {
   "cell_type": "code",
   "execution_count": 15,
   "metadata": {},
   "outputs": [
    {
     "data": {
      "text/plain": [
       "0.05194106241580205"
      ]
     },
     "execution_count": 15,
     "metadata": {},
     "output_type": "execute_result"
    }
   ],
   "source": [
    "cramers_corrected_stat(mean_cm.to_numpy())"
   ]
  },
  {
   "cell_type": "code",
   "execution_count": 16,
   "metadata": {},
   "outputs": [
    {
     "data": {
      "text/plain": [
       "0.06577998057719492"
      ]
     },
     "execution_count": 16,
     "metadata": {},
     "output_type": "execute_result"
    }
   ],
   "source": [
    "cramers_corrected_stat(last_cm.to_numpy())"
   ]
  },
  {
   "cell_type": "code",
   "execution_count": 17,
   "metadata": {},
   "outputs": [
    {
     "data": {
      "text/plain": [
       "0.07627970516550639"
      ]
     },
     "execution_count": 17,
     "metadata": {},
     "output_type": "execute_result"
    }
   ],
   "source": [
    "cramers_corrected_stat(max_cm.to_numpy())"
   ]
  },
  {
   "cell_type": "code",
   "execution_count": 18,
   "metadata": {},
   "outputs": [
    {
     "data": {
      "text/plain": [
       "0.021170448238826335"
      ]
     },
     "execution_count": 18,
     "metadata": {},
     "output_type": "execute_result"
    }
   ],
   "source": [
    "theil_u(trY, mean_preds)"
   ]
  },
  {
   "cell_type": "code",
   "execution_count": 19,
   "metadata": {},
   "outputs": [
    {
     "data": {
      "text/plain": [
       "0.0281494470867897"
      ]
     },
     "execution_count": 19,
     "metadata": {},
     "output_type": "execute_result"
    }
   ],
   "source": [
    "theil_u(trY, last_preds)"
   ]
  },
  {
   "cell_type": "code",
   "execution_count": 20,
   "metadata": {},
   "outputs": [
    {
     "data": {
      "text/plain": [
       "0.04645914166334241"
      ]
     },
     "execution_count": 20,
     "metadata": {},
     "output_type": "execute_result"
    }
   ],
   "source": [
    "theil_u(trY, max_preds)"
   ]
  },
  {
   "cell_type": "markdown",
   "metadata": {},
   "source": [
    "## Logreg"
   ]
  },
  {
   "cell_type": "code",
   "execution_count": 21,
   "metadata": {},
   "outputs": [
    {
     "name": "stderr",
     "output_type": "stream",
     "text": [
      "100%|██████████| 1995/1995 [05:43<00:00,  5.81it/s]\n"
     ]
    }
   ],
   "source": [
    "Xtrans_last = transform_last(X, model, tokenizer, args)"
   ]
  },
  {
   "cell_type": "code",
   "execution_count": 22,
   "metadata": {},
   "outputs": [
    {
     "name": "stderr",
     "output_type": "stream",
     "text": [
      "100%|██████████| 1995/1995 [06:00<00:00,  5.53it/s]\n"
     ]
    }
   ],
   "source": [
    "Xtrans_mean = transform_mean(X, model, tokenizer, args)"
   ]
  },
  {
   "cell_type": "code",
   "execution_count": 23,
   "metadata": {},
   "outputs": [
    {
     "name": "stderr",
     "output_type": "stream",
     "text": [
      "100%|██████████| 1995/1995 [06:20<00:00,  5.24it/s]\n"
     ]
    }
   ],
   "source": [
    "Xtrans_max = transform_max(X, model, tokenizer, args)"
   ]
  },
  {
   "cell_type": "code",
   "execution_count": 24,
   "metadata": {},
   "outputs": [],
   "source": [
    "trXtrans, teXtrans, trY, teY = train_test_split(Xtrans_last, y, train_size=TRAIN_SIZE, random_state=42)"
   ]
  },
  {
   "cell_type": "code",
   "execution_count": 25,
   "metadata": {},
   "outputs": [
    {
     "data": {
      "text/plain": [
       "(LogisticRegression(C=0.015625, class_weight=None, dual=False,\n",
       "                    fit_intercept=True, intercept_scaling=1, l1_ratio=None,\n",
       "                    max_iter=1000000, multi_class='auto', n_jobs=None,\n",
       "                    penalty='l2', random_state=51, solver='lbfgs', tol=0.0001,\n",
       "                    verbose=0, warm_start=False),\n",
       " 0.015625,\n",
       " [0.648212424137123,\n",
       "  0.6472304797229116,\n",
       "  0.6492448139988949,\n",
       "  0.6442207461637294,\n",
       "  0.6301324476552967,\n",
       "  0.6120410999862623,\n",
       "  0.6029749728514786,\n",
       "  0.6070335881764124,\n",
       "  0.5989884940439936])"
      ]
     },
     "execution_count": 25,
     "metadata": {},
     "output_type": "execute_result"
    }
   ],
   "source": [
    "model, C, scores = train_with_reg_cv(trXtrans, trY, teXtrans, teY, None, None, penalty='l2', solver='lbfgs', metrics='f1')\n",
    "model, C, scores"
   ]
  },
  {
   "cell_type": "code",
   "execution_count": 26,
   "metadata": {},
   "outputs": [],
   "source": [
    "trXtrans, teXtrans, trY, teY = train_test_split(Xtrans_mean, y, train_size=TRAIN_SIZE, random_state=42)"
   ]
  },
  {
   "cell_type": "code",
   "execution_count": 27,
   "metadata": {},
   "outputs": [
    {
     "data": {
      "text/plain": [
       "(LogisticRegression(C=0.0078125, class_weight=None, dual=False,\n",
       "                    fit_intercept=True, intercept_scaling=1, l1_ratio=None,\n",
       "                    max_iter=1000000, multi_class='auto', n_jobs=None,\n",
       "                    penalty='l2', random_state=51, solver='lbfgs', tol=0.0001,\n",
       "                    verbose=0, warm_start=False),\n",
       " 0.0078125,\n",
       " [0.6170715028146778,\n",
       "  0.6451558804601604,\n",
       "  0.6341261374840389,\n",
       "  0.63008760870268,\n",
       "  0.6280952496403692,\n",
       "  0.6271356783919599,\n",
       "  0.6271296523566958,\n",
       "  0.6060106507632508,\n",
       "  0.5929500226770197])"
      ]
     },
     "execution_count": 27,
     "metadata": {},
     "output_type": "execute_result"
    }
   ],
   "source": [
    "model, C, scores = train_with_reg_cv(trXtrans, trY, teXtrans, teY, None, None, penalty='l2', solver='lbfgs', metrics='f1')\n",
    "model, C, scores"
   ]
  },
  {
   "cell_type": "code",
   "execution_count": 28,
   "metadata": {},
   "outputs": [],
   "source": [
    "trXtrans, teXtrans, trY, teY = train_test_split(Xtrans_max, y, train_size=TRAIN_SIZE, random_state=42)"
   ]
  },
  {
   "cell_type": "code",
   "execution_count": 29,
   "metadata": {},
   "outputs": [
    {
     "data": {
      "text/plain": [
       "(LogisticRegression(C=0.03125, class_weight=None, dual=False, fit_intercept=True,\n",
       "                    intercept_scaling=1, l1_ratio=None, max_iter=1000000,\n",
       "                    multi_class='auto', n_jobs=None, penalty='l2',\n",
       "                    random_state=51, solver='lbfgs', tol=0.0001, verbose=0,\n",
       "                    warm_start=False),\n",
       " 0.03125,\n",
       " [0.5928842254571245,\n",
       "  0.5969702693666292,\n",
       "  0.5989803927114341,\n",
       "  0.6120567748400025,\n",
       "  0.608039805095634,\n",
       "  0.5979895436878297,\n",
       "  0.5899161972798461,\n",
       "  0.5909481630975072,\n",
       "  0.5768690359185809])"
      ]
     },
     "execution_count": 29,
     "metadata": {},
     "output_type": "execute_result"
    }
   ],
   "source": [
    "model, C, scores = train_with_reg_cv(trXtrans, trY, teXtrans, teY, None, None, penalty='l2', solver='lbfgs', metrics='f1')\n",
    "model, C, scores"
   ]
  },
  {
   "cell_type": "markdown",
   "metadata": {},
   "source": [
    "## Vanilla GPT-2"
   ]
  },
  {
   "cell_type": "code",
   "execution_count": 5,
   "metadata": {},
   "outputs": [],
   "source": [
    "from transformers import GPT2Model"
   ]
  },
  {
   "cell_type": "code",
   "execution_count": 6,
   "metadata": {},
   "outputs": [],
   "source": [
    "model_version = 'gpt2'\n",
    "model_gpt2 = GPT2Model.from_pretrained(model_version)\n",
    "tokenizer_gpt2 = GPT2Tokenizer.from_pretrained(model_version)"
   ]
  },
  {
   "cell_type": "code",
   "execution_count": 7,
   "metadata": {},
   "outputs": [
    {
     "name": "stderr",
     "output_type": "stream",
     "text": [
      "100%|██████████| 1995/1995 [12:47<00:00,  2.60it/s]\n"
     ]
    }
   ],
   "source": [
    "Xtrans_gpt2 = transform_gpt2(X, model_gpt2, tokenizer_gpt2)"
   ]
  },
  {
   "cell_type": "code",
   "execution_count": 8,
   "metadata": {},
   "outputs": [
    {
     "data": {
      "text/plain": [
       "(LogisticRegression(C=0.03125, class_weight=None, dual=False, fit_intercept=True,\n",
       "                    intercept_scaling=1, l1_ratio=None, max_iter=1000000,\n",
       "                    multi_class='auto', n_jobs=None, penalty='l2',\n",
       "                    random_state=51, solver='lbfgs', tol=0.0001, verbose=0,\n",
       "                    warm_start=False),\n",
       " 0.03125,\n",
       " [0.6592951058613908,\n",
       "  0.6613065326633166,\n",
       "  0.6673366834170854,\n",
       "  0.6762638632909755,\n",
       "  0.6723350007677202,\n",
       "  0.6603011644162162,\n",
       "  0.6592964824120604,\n",
       "  0.6452261306532664,\n",
       "  0.6361775971297433])"
      ]
     },
     "execution_count": 8,
     "metadata": {},
     "output_type": "execute_result"
    }
   ],
   "source": [
    "trXtrans, teXtrans, trY, teY = train_test_split(Xtrans_gpt2, y, train_size=TRAIN_SIZE, random_state=42)\n",
    "\n",
    "lr, C, scores = train_with_reg_cv(trXtrans, trY, teXtrans, teY, None, None, penalty='l2', solver='lbfgs', metrics='f1')\n",
    "lr, C, scores"
   ]
  },
  {
   "cell_type": "code",
   "execution_count": 9,
   "metadata": {},
   "outputs": [
    {
     "name": "stderr",
     "output_type": "stream",
     "text": [
      "100%|██████████| 1995/1995 [08:35<00:00,  3.87it/s]\n"
     ]
    }
   ],
   "source": [
    "Xtrans_emoji = transform_emoji(X, model, tokenizer)"
   ]
  },
  {
   "cell_type": "code",
   "execution_count": 10,
   "metadata": {},
   "outputs": [
    {
     "data": {
      "text/plain": [
       "(LogisticRegression(C=0.03125, class_weight=None, dual=False, fit_intercept=True,\n",
       "                    intercept_scaling=1, l1_ratio=None, max_iter=1000000,\n",
       "                    multi_class='auto', n_jobs=None, penalty='l2',\n",
       "                    random_state=51, solver='lbfgs', tol=0.0001, verbose=0,\n",
       "                    warm_start=False),\n",
       " 0.03125,\n",
       " [0.6422078027021785,\n",
       "  0.6411697855898175,\n",
       "  0.6451343697367771,\n",
       "  0.6502424242424243,\n",
       "  0.6461879131713784,\n",
       "  0.6231094868834526,\n",
       "  0.6090452261306533,\n",
       "  0.5969832963139166,\n",
       "  0.5909398993322148])"
      ]
     },
     "execution_count": 10,
     "metadata": {},
     "output_type": "execute_result"
    }
   ],
   "source": [
    "trXtrans, teXtrans, trY, teY = train_test_split(Xtrans_emoji, y, train_size=TRAIN_SIZE, random_state=42)\n",
    "\n",
    "lr, C, scores = train_with_reg_cv(trXtrans, trY, teXtrans, teY, None, None, penalty='l2', solver='lbfgs', metrics='f1')\n",
    "lr, C, scores"
   ]
  },
  {
   "cell_type": "code",
   "execution_count": null,
   "metadata": {},
   "outputs": [],
   "source": []
  }
 ],
 "metadata": {
  "kernelspec": {
   "display_name": "Python 3",
   "language": "python",
   "name": "python3"
  },
  "language_info": {
   "codemirror_mode": {
    "name": "ipython",
    "version": 3
   },
   "file_extension": ".py",
   "mimetype": "text/x-python",
   "name": "python",
   "nbconvert_exporter": "python",
   "pygments_lexer": "ipython3",
   "version": "3.7.6"
  }
 },
 "nbformat": 4,
 "nbformat_minor": 4
}
